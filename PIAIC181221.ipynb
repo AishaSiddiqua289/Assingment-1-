{
 "cells": [
  {
   "cell_type": "code",
   "execution_count": 175,
   "id": "1b0569a1",
   "metadata": {},
   "outputs": [],
   "source": [
    "class Father():\n",
    "    def __init__(self):\n",
    "        self. id = None\n",
    "        self.name = None\n",
    "        self.fname = None\n"
   ]
  },
  {
   "cell_type": "code",
   "execution_count": 79,
   "id": "f8a32024",
   "metadata": {},
   "outputs": [
    {
     "name": "stdout",
     "output_type": "stream",
     "text": [
      "['fname', 'id', 'name']\n"
     ]
    }
   ],
   "source": [
    "f1 = Father()\n",
    "print([i for i in dir(f1) if '__'not in i])\n",
    "\n"
   ]
  },
  {
   "cell_type": "code",
   "execution_count": 80,
   "id": "3bf27b8b",
   "metadata": {},
   "outputs": [],
   "source": [
    "class Mother():\n",
    "    def __init__(self):\n",
    "        self.name = None\n",
    "        self.lname = None\n",
    "        self.color = None"
   ]
  },
  {
   "cell_type": "code",
   "execution_count": 81,
   "id": "b7dbb6ac",
   "metadata": {},
   "outputs": [
    {
     "name": "stdout",
     "output_type": "stream",
     "text": [
      "['color', 'lname', 'name']\n"
     ]
    }
   ],
   "source": [
    "m1 = Mother()\n",
    "print([i for i in dir(m1) if '__'not in i])"
   ]
  },
  {
   "cell_type": "code",
   "execution_count": 173,
   "id": "097bde20",
   "metadata": {},
   "outputs": [],
   "source": [
    "class Child():\n",
    "    def __init__(self,Father,Mother):\n",
    "        super().__init__()\n",
    "        Father.__init__(self)\n",
    "        Mother.__init__(self)\n",
    "        self.name = None\n",
    "        self.height = None\n",
    "        self.education = None"
   ]
  },
  {
   "cell_type": "code",
   "execution_count": 174,
   "id": "c1e35aad",
   "metadata": {},
   "outputs": [
    {
     "name": "stdout",
     "output_type": "stream",
     "text": [
      "['color', 'education', 'fname', 'height', 'id', 'lname', 'name']\n"
     ]
    }
   ],
   "source": [
    "c1 = Child(Father,Mother)\n",
    "print([i for i in dir(c1) if '__'not in i])"
   ]
  },
  {
   "cell_type": "code",
   "execution_count": null,
   "id": "59dfe609",
   "metadata": {},
   "outputs": [],
   "source": []
  },
  {
   "cell_type": "code",
   "execution_count": null,
   "id": "90e9f3d7",
   "metadata": {},
   "outputs": [],
   "source": []
  },
  {
   "cell_type": "code",
   "execution_count": null,
   "id": "c9fa87c4",
   "metadata": {},
   "outputs": [],
   "source": []
  },
  {
   "cell_type": "code",
   "execution_count": null,
   "id": "2411eb98",
   "metadata": {},
   "outputs": [],
   "source": []
  },
  {
   "cell_type": "code",
   "execution_count": null,
   "id": "5737ca2c",
   "metadata": {},
   "outputs": [],
   "source": []
  }
 ],
 "metadata": {
  "kernelspec": {
   "display_name": "Python 3 (ipykernel)",
   "language": "python",
   "name": "python3"
  },
  "language_info": {
   "codemirror_mode": {
    "name": "ipython",
    "version": 3
   },
   "file_extension": ".py",
   "mimetype": "text/x-python",
   "name": "python",
   "nbconvert_exporter": "python",
   "pygments_lexer": "ipython3",
   "version": "3.9.12"
  }
 },
 "nbformat": 4,
 "nbformat_minor": 5
}
